{
 "cells": [
  {
   "cell_type": "code",
   "execution_count": null,
   "id": "6d20e06d",
   "metadata": {},
   "outputs": [],
   "source": [
    "import pandas as pd\n",
    "from pathlib import Path\n",
    "\n",
    "blocking_dir = Path(\"../data/blocking\")\n",
    "mp = {}\n",
    "for d in blocking_dir.iterdir():\n",
    "    table_paths = sorted(Path(d).glob(\"[1-2]*.csv\"))\n",
    "    for f in table_paths:\n",
    "        df = pd.read_csv(f, low_memory=False)\n",
    "        mp[tuple(df.columns.tolist())] = f\n",
    "\n",
    "data_dir = Path(\"../data/gittables/raw_4943312\")\n",
    "for f in data_dir.rglob(\"*.parquet\"):\n",
    "    try:\n",
    "        df = pd.read_parquet(f)\n",
    "        df.columns = df.columns.str.replace(\"\\ufeff\", \"\")\n",
    "        df.drop_duplicates(inplace=True)\n",
    "        if tuple(df.columns.tolist()) in mp:\n",
    "            print(f, mp[tuple(df.columns.tolist())])\n",
    "    except:\n",
    "        pass"
   ]
  },
  {
   "cell_type": "code",
   "execution_count": null,
   "id": "d98bd6ba",
   "metadata": {},
   "outputs": [],
   "source": []
  }
 ],
 "metadata": {
  "kernelspec": {
   "display_name": "Python 3 (ipykernel)",
   "language": "python",
   "name": "python3"
  },
  "language_info": {
   "codemirror_mode": {
    "name": "ipython",
    "version": 3
   },
   "file_extension": ".py",
   "mimetype": "text/x-python",
   "name": "python",
   "nbconvert_exporter": "python",
   "pygments_lexer": "ipython3",
   "version": "3.10.6"
  }
 },
 "nbformat": 4,
 "nbformat_minor": 5
}
