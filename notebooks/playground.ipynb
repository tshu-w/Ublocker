{
 "cells": [
  {
   "cell_type": "code",
   "execution_count": null,
   "id": "09be272a",
   "metadata": {},
   "outputs": [],
   "source": [
    "from jnius import autoclass\n",
    "\n",
    "List = autoclass(\"java.util.List\")\n",
    "Set = autoclass(\"java.util.Set\")\n",
    "EntityReader = autoclass(\"org.scify.jedai.datareader.entityreader.AbstractEntityReader\")\n",
    "EntityCSVReader = autoclass(\"org.scify.jedai.datareader.entityreader.EntityCSVReader\")\n",
    "EntityProfile = autoclass(\"org.scify.jedai.datamodel.EntityProfile\")\n",
    "GroundTruthReader = autoclass(\"org.scify.jedai.datareader.groundtruthreader.AbstractGtReader\")\n",
    "GtCSVReader = autoclass(\"org.scify.jedai.datareader.groundtruthreader.GtCSVReader\")\n",
    "IdDuplicates = autoclass(\"org.scify.jedai.datamodel.IdDuplicates\")\n",
    "DuplicatePropagation = autoclass(\"org.scify.jedai.utilities.datastructures.AbstractDuplicatePropagation\")"
   ]
  },
  {
   "cell_type": "code",
   "execution_count": null,
   "id": "2b6de70c",
   "metadata": {},
   "outputs": [],
   "source": [
    "GtCSVReader = autoclass(\"org.scify.jedai.datareader.groundtruthreader.GtCSVReader\")\n",
    "reader = GtCSVReader(\"../data/blocking/cora/matches.csv\")\n",
    "reader.getDuplicatePairs(None)"
   ]
  },
  {
   "cell_type": "code",
   "execution_count": null,
   "id": "d3eee6c0",
   "metadata": {},
   "outputs": [],
   "source": [
    "duplicatePairs = GtSerializationReader(\"../src/vendor/JedAIToolkit/data/dirtyErDatasets/abtBuyProfiles\").getDuplicatePairs(None)\n",
    "duplicatePairsIterator = duplicatePairs.iterator()\n",
    "cnt = 0\n",
    "while duplicatePairsIterator.hasNext():\n",
    "    duplicatePair = duplicatePairsIterator.next()\n",
    "    cnt += 1\n",
    "print(cnt)"
   ]
  },
  {
   "cell_type": "code",
   "execution_count": null,
   "id": "21d734ed",
   "metadata": {},
   "outputs": [],
   "source": [
    "entitySerializationReader = EntitySerializationReader(\"../src/vendor/JedAIToolkit/data/cleanCleanErDatasets/gpProfiles\")\n",
    "entityProfiles = entitySerializationReader.getEntityProfiles()\n",
    "profilesIterator = entityProfiles.iterator()\n",
    "cnt = 0\n",
    "while profilesIterator.hasNext():\n",
    "    profile = profilesIterator.next()\n",
    "    cnt += 1\n",
    "print(cnt)"
   ]
  },
  {
   "cell_type": "code",
   "execution_count": null,
   "id": "ef78955b",
   "metadata": {},
   "outputs": [],
   "source": [
    "csvReader = EntityCSVReader(\"../data/comperbench/abt-buy/1_abt.csv\")\n",
    "csvReader.setAttributeNamesInFirstRow(True)\n",
    "#csvReader.setSeparator(\",\")\n",
    "csvReader.setIdIndex(0)\n",
    "profiles = csvReader.getEntityProfiles()"
   ]
  },
  {
   "cell_type": "code",
   "execution_count": null,
   "id": "af94497c",
   "metadata": {},
   "outputs": [],
   "source": [
    "profilesIterator = profiles.iterator()\n",
    "while profilesIterator.hasNext():\n",
    "    profile = profilesIterator.next()\n",
    "    print(\"\\n\\n\" + profile.getEntityUrl())\n",
    "    attributesIterator = profile.getAttributes().iterator()\n",
    "    while attributesIterator.hasNext() :\n",
    "        print(attributesIterator.next().toString())"
   ]
  }
 ],
 "metadata": {
  "kernelspec": {
   "display_name": "Python 3 (ipykernel)",
   "language": "python",
   "name": "python3"
  },
  "language_info": {
   "codemirror_mode": {
    "name": "ipython",
    "version": 3
   },
   "file_extension": ".py",
   "mimetype": "text/x-python",
   "name": "python",
   "nbconvert_exporter": "python",
   "pygments_lexer": "ipython3",
   "version": "3.9.12"
  }
 },
 "nbformat": 4,
 "nbformat_minor": 5
}
