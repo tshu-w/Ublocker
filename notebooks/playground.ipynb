{
 "cells": [
  {
   "cell_type": "code",
   "execution_count": null,
   "id": "3f75665e",
   "metadata": {},
   "outputs": [],
   "source": [
    "import os\n",
    "os.chdir(\"/home1/wangtianshu/universal-blocker\")\n",
    "\n",
    "from pytorch_lightning import Trainer\n",
    "from src.models import SimCSE\n",
    "from src.datamodules import Blocking\n",
    "from src.utils.evaluation_loop import EvaluationLoop"
   ]
  },
  {
   "cell_type": "code",
   "execution_count": null,
   "id": "4b4c331c",
   "metadata": {},
   "outputs": [],
   "source": [
    "trainer = Trainer(accelerator=\"auto\", devices=[9,])\n",
    "model = SimCSE(model_name_or_path=\"./models/bert-base-uncased\", max_length=256)\n",
    "datamodule = Blocking(data_dir=\"data/blocking/cora\")"
   ]
  },
  {
   "cell_type": "code",
   "execution_count": null,
   "id": "2231995a",
   "metadata": {},
   "outputs": [],
   "source": [
    "trainer.test_loop = EvaluationLoop()\n",
    "model.validation_step = model.test_step = lambda *args, **kwargs: None\n",
    "datamodule.val_dataloader = lambda *args, **kwargs: []\n",
    "datamodule.test_dataloader = lambda *args, **kwargs: []"
   ]
  },
  {
   "cell_type": "code",
   "execution_count": null,
   "id": "c2cd6342",
   "metadata": {},
   "outputs": [],
   "source": [
    "trainer.test(model, datamodule)"
   ]
  },
  {
   "cell_type": "code",
   "execution_count": null,
   "id": "5a5c042b",
   "metadata": {},
   "outputs": [],
   "source": [
    "trainer.test(model, datamodule, ckpt_path=\"results/fit/simcse/gittables/3nci8lku/checkpoints/step=3500-AP=0.32385.ckpt\")"
   ]
  },
  {
   "cell_type": "code",
   "execution_count": null,
   "id": "e97ab457",
   "metadata": {},
   "outputs": [],
   "source": [
    "model = SimCSE.load_from_checkpoint(\"results/fit/simcse/gittables/3nci8lku/checkpoints/step=3500-AP=0.32385.ckpt\")\n",
    "model.validation_step = model.test_step = lambda *args, **kwargs: None\n",
    "trainer.test(model, datamodule)"
   ]
  },
  {
   "cell_type": "code",
   "execution_count": null,
   "id": "a9c0ce9c",
   "metadata": {},
   "outputs": [],
   "source": [
    "from transformers import AutoTokenizer\n",
    "tokenizer = AutoTokenizer.from_pretrained(\"roberta-base\")"
   ]
  },
  {
   "cell_type": "code",
   "execution_count": null,
   "id": "4433561a",
   "metadata": {},
   "outputs": [],
   "source": [
    "s = \"http://etsy.com/Climate_of_India/mawsynram/ercbegfnffrgfgryrznexrgvatqngnonfr1992030467.php\"\n",
    "token_ids = tokenizer(s)[\"input_ids\"]\n",
    "tokenizer.convert_ids_to_tokens(token_ids)"
   ]
  },
  {
   "cell_type": "code",
   "execution_count": null,
   "id": "3bc97d5e",
   "metadata": {},
   "outputs": [],
   "source": [
    "from pathlib import Path\n",
    "import pandas as pd\n",
    "\n",
    "dir = Path(\"./data/gittables/raw/\")\n",
    "for f in dir.rglob(\"*.parquet\"):\n",
    "    df = pd.read_parquet(f)\n",
    "    if len(df) > 32:\n",
    "        print(df)"
   ]
  },
  {
   "cell_type": "code",
   "execution_count": null,
   "id": "ba8c1e5e",
   "metadata": {},
   "outputs": [],
   "source": []
  }
 ],
 "metadata": {
  "kernelspec": {
   "display_name": "Python 3 (ipykernel)",
   "language": "python",
   "name": "python3"
  },
  "language_info": {
   "codemirror_mode": {
    "name": "ipython",
    "version": 3
   },
   "file_extension": ".py",
   "mimetype": "text/x-python",
   "name": "python",
   "nbconvert_exporter": "python",
   "pygments_lexer": "ipython3",
   "version": "3.9.13"
  }
 },
 "nbformat": 4,
 "nbformat_minor": 5
}
