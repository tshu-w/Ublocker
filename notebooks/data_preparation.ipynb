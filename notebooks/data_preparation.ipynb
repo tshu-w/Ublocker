{
 "cells": [
  {
   "cell_type": "markdown",
   "id": "2140e660",
   "metadata": {},
   "source": [
    "# Preprocess"
   ]
  },
  {
   "cell_type": "code",
   "execution_count": null,
   "id": "7ba8da6e",
   "metadata": {},
   "outputs": [],
   "source": [
    "import pandas as pd\n",
    "from pathlib import Path"
   ]
  },
  {
   "cell_type": "code",
   "execution_count": null,
   "id": "26b50952",
   "metadata": {},
   "outputs": [],
   "source": [
    "# dblp-scholoar\n",
    "folder = Path(\"../data/blocking/dblp-scholar/\")\n",
    "df = pd.read_csv(folder / \"raw\" / \"DBLP1.csv\", encoding=\"latin-1\")\n",
    "df.to_csv(folder / \"1_dblp.csv\", index=False)\n",
    "df = pd.read_csv(folder / \"raw\" / \"Scholar.csv\")\n",
    "df.to_csv(folder / \"2_scholar.csv\", index=False)\n",
    "df = pd.read_csv(folder / \"raw\" / \"DBLP-Scholar_perfectMapping.csv\")\n",
    "df.rename(columns={\"idDBLP\": \"id1\", \"idScholar\": \"id2\"}, inplace=True)\n",
    "df.to_csv(folder / \"matches.csv\", index=False)"
   ]
  },
  {
   "cell_type": "code",
   "execution_count": null,
   "id": "76d2e470",
   "metadata": {},
   "outputs": [],
   "source": [
    "# dblp-acm\n",
    "folder = Path(\"../data/blocking/dblp-acm/\")\n",
    "df = pd.read_csv(folder / \"raw\" / \"DBLP2.csv\", encoding=\"latin-1\")\n",
    "df.to_csv(folder / \"1_dblp.csv\", index=False)\n",
    "df = pd.read_csv(folder / \"raw\" / \"ACM.csv\")\n",
    "df.to_csv(folder / \"2_acm.csv\", index=False)\n",
    "df = pd.read_csv(folder / \"raw\" / \"DBLP-ACM_perfectMapping.csv\")\n",
    "df.rename(columns={\"idDBLP\": \"id1\", \"idACM\": \"id2\"}, inplace=True)\n",
    "df.to_csv(folder / \"matches.csv\", index=False)"
   ]
  },
  {
   "cell_type": "code",
   "execution_count": null,
   "id": "f9c3fce5",
   "metadata": {},
   "outputs": [],
   "source": [
    "# amazon-google\n",
    "folder = Path(\"../data/blocking/amazon-google/\")\n",
    "df = pd.read_csv(folder / \"raw\" / \"Amazon.csv\", encoding=\"latin-1\")\n",
    "df.to_csv(folder / \"1_amazon.csv\", index=False)\n",
    "df = pd.read_csv(folder / \"raw\" / \"GoogleProducts.csv\", encoding=\"latin-1\")\n",
    "df.to_csv(folder / \"2_google.csv\", index=False)\n",
    "df = pd.read_csv(folder / \"raw\" / \"Amzon_GoogleProducts_perfectMapping.csv\")\n",
    "df.rename(columns={\"idAmazon\": \"id1\", \"idGoogleBase\": \"id2\"}, inplace=True)\n",
    "df.to_csv(folder / \"matches.csv\", index=False)"
   ]
  },
  {
   "cell_type": "code",
   "execution_count": null,
   "id": "50654eb4",
   "metadata": {},
   "outputs": [],
   "source": [
    "# abt-buy_homo\n",
    "folder = Path(\"../data/blocking/abt-buy_homo/\")\n",
    "df = pd.read_csv(folder / \"raw\" / \"Abt.csv\", encoding=\"latin-1\")\n",
    "df.to_csv(folder / \"1_abt.csv\", index=False)\n",
    "df = pd.read_csv(folder / \"raw\" / \"Buy.csv\")\n",
    "df.drop(columns=[\"manufacturer\"], inplace=True) # drop manufacturer\n",
    "df.to_csv(folder / \"2_buy.csv\", index=False)\n",
    "df = pd.read_csv(folder / \"raw\" / \"abt_buy_perfectMapping.csv\")\n",
    "df.rename(columns={\"idAbt\": \"id1\", \"idBuy\": \"id2\"}, inplace=True)\n",
    "df.to_csv(folder / \"matches.csv\", index=False)"
   ]
  },
  {
   "cell_type": "code",
   "execution_count": null,
   "id": "e7e05219",
   "metadata": {},
   "outputs": [],
   "source": [
    "# abt-buy_heter\n",
    "folder = Path(\"../data/blocking/abt-buy_heter/\")\n",
    "df = pd.read_csv(folder / \"raw\" / \"Abt.csv\", encoding=\"latin-1\")\n",
    "df.to_csv(folder / \"1_abt.csv\", index=False)\n",
    "df = pd.read_csv(folder / \"raw\" / \"Buy.csv\")\n",
    "df.to_csv(folder / \"2_buy.csv\", index=False)\n",
    "df = pd.read_csv(folder / \"raw\" / \"abt_buy_perfectMapping.csv\")\n",
    "df.rename(columns={\"idAbt\": \"id1\", \"idBuy\": \"id2\"}, inplace=True)\n",
    "df.to_csv(folder / \"matches.csv\", index=False)"
   ]
  },
  {
   "cell_type": "code",
   "execution_count": null,
   "id": "0563fe34",
   "metadata": {},
   "outputs": [],
   "source": [
    "# cora\n",
    "from xml.etree import ElementTree\n",
    "\n",
    "folder = Path(\"../data/blocking/cora/\")\n",
    "tree = ElementTree.parse(folder / \"raw\" / \"cora.xml\")\n",
    "root = tree.getroot()\n",
    "\n",
    "entities = []\n",
    "for elem in root:\n",
    "    entities.append({attr.tag : attr.text for attr in elem})\n",
    "\n",
    "df = pd.DataFrame(entities)\n",
    "idx = df.index + 1\n",
    "df.insert(0, \"id\", idx)\n",
    "df.to_csv(folder / \"1_cora.csv\", index=False)\n",
    "\n",
    "df = pd.read_csv(folder / \"raw\" / \"cora_gold.csv\", sep=\";\")\n",
    "df.to_csv(folder / \"matches.csv\", index=False)"
   ]
  },
  {
   "cell_type": "code",
   "execution_count": null,
   "id": "74a22ebc",
   "metadata": {},
   "outputs": [],
   "source": [
    "# fodors-zagats_homo\n",
    "folder = Path(\"../data/blocking/fodors-zagats_homo/\")\n",
    "df = pd.read_csv(folder / \"raw\" / \"fodors_zagat_raw_data\" / \"tableA.csv\")\n",
    "df.to_csv(folder / \"1_fodors.csv\", index=False)\n",
    "df = pd.read_csv(folder / \"raw\" / \"fodors_zagat_raw_data\" / \"tableB.csv\")\n",
    "df.to_csv(folder / \"2_zagats.csv\", index=False)\n",
    "df = pd.read_csv(folder / \"raw\" / \"fodors_zagat_raw_data\" / \"matches.csv\")\n",
    "df.rename(columns={\"fodors_id\": \"id1\", \"zagats_id\": \"id2\"}, inplace=True)\n",
    "df.to_csv(folder / \"matches.csv\", index=False)"
   ]
  },
  {
   "cell_type": "code",
   "execution_count": null,
   "id": "d9dbfb42",
   "metadata": {},
   "outputs": [],
   "source": [
    "# fodors-zagats_heter\n",
    "folder = Path(\"../data/blocking/fodors-zagats_heter/\")\n",
    "df = pd.read_csv(folder / \"raw\" / \"fodors_zagat_raw_data\" / \"tableA.csv\")\n",
    "df = df.rename(columns={\"name\": \"title\"})\n",
    "address =  df[\"addr\"] + \" \" + df[\"city\"]\n",
    "df = df.drop(columns=['addr', 'city'])\n",
    "df.insert(2, \"address\", address)\n",
    "category = df[\"type\"] + \" \" + df[\"class\"].astype(str)\n",
    "df = df.drop(columns=[\"type\", \"class\"])\n",
    "df.insert(4, \"category\", category)\n",
    "df.to_csv(folder / \"1_fodors.csv\", index=False)\n",
    "\n",
    "df = pd.read_csv(folder / \"raw\" / \"fodors_zagat_raw_data\" / \"tableB.csv\")\n",
    "df = df.drop(columns=[\"name\"])\n",
    "df.to_csv(folder / \"2_zagats.csv\", index=False)\n",
    "\n",
    "df = pd.read_csv(folder / \"raw\" / \"fodors_zagat_raw_data\" / \"matches.csv\")\n",
    "df.rename(columns={\"fodors_id\": \"id1\", \"zagats_id\": \"id2\"}, inplace=True)\n",
    "df.to_csv(folder / \"matches.csv\", index=False)"
   ]
  },
  {
   "cell_type": "code",
   "execution_count": null,
   "id": "c121a8ea",
   "metadata": {},
   "outputs": [],
   "source": [
    "# songs\n",
    "folder = Path(\"../data/blocking/songs/\")\n",
    "df = pd.read_csv(folder / \"raw\" / \"msd.csv\")\n",
    "df.to_csv(folder / \"1_msd.csv\", index=False)\n",
    "\n",
    "df = pd.read_csv(folder / \"raw\" / \"matches_msd_msd.csv\")\n",
    "df = df[df[\"id1\"] != df[\"id2\"]]\n",
    "df = df[df[\"id1\"] < df[\"id2\"]]\n",
    "df.to_csv(folder / \"matches.csv\", index=False)"
   ]
  },
  {
   "cell_type": "code",
   "execution_count": null,
   "id": "f27f0957",
   "metadata": {},
   "outputs": [],
   "source": [
    "# citeseer-dblp\n",
    "folder = Path(\"../data/blocking/citeseer-dblp/\")\n",
    "csv = pd.read_csv(folder / \"raw\" / \"citeseer.csv\")\n",
    "csv.to_csv(folder / \"1_citeseer.csv\", index=False)\n",
    "\n",
    "csv = pd.read_csv(folder / \"raw\" / \"dblp.csv\")\n",
    "csv.to_csv(folder / \"2_dblp.csv\", index=False)\n",
    "\n",
    "df = pd.read_csv(folder / \"raw\" / \"matches_citeseer_dblp.csv\")\n",
    "df.to_csv(folder / \"matches.csv\", index=False)"
   ]
  },
  {
   "cell_type": "code",
   "execution_count": null,
   "id": "d5dfc61c",
   "metadata": {},
   "outputs": [],
   "source": [
    "import pandas as pd\n",
    "from pathlib import Path\n",
    "\n",
    "from jnius import autoclass, cast\n",
    "\n",
    "EntitySerializationReader = autoclass(\"org.scify.jedai.datareader.entityreader.EntitySerializationReader\")\n",
    "GtSerializationReader = autoclass(\"org.scify.jedai.datareader.groundtruthreader.GtSerializationReader\")\n",
    "\n",
    "def profile2df(path):\n",
    "    entitySerializationReader = EntitySerializationReader(path)\n",
    "    entityProfiles = entitySerializationReader.getEntityProfiles()\n",
    "    profilesIterator = entityProfiles.iterator()\n",
    "    profiles = []\n",
    "    while profilesIterator.hasNext():\n",
    "        profile = profilesIterator.next()\n",
    "        pf = {\"id\": len(profiles)}\n",
    "        attributesIterator = profile.getAttributes().iterator()\n",
    "        while attributesIterator.hasNext():\n",
    "            attribute = attributesIterator.next()\n",
    "            pf[attribute.getName()] = attribute.getValue()\n",
    "        profiles.append(pf)\n",
    "    \n",
    "    return pd.DataFrame(profiles)\n",
    "\n",
    "def duplicates2df(path):\n",
    "    gtSerializationReader = GtSerializationReader(path)\n",
    "    duplicatePairs = gtSerializationReader.getDuplicatePairs(None)\n",
    "    duplicatePairsIterator = duplicatePairs.iterator()\n",
    "    duplicates = []\n",
    "    while duplicatePairsIterator.hasNext():\n",
    "\n",
    "        idDuplicates = duplicatePairsIterator.next()\n",
    "        duplicate = {\n",
    "            \"id1\": idDuplicates.getEntityId1(),\n",
    "            \"id2\": idDuplicates.getEntityId2(),\n",
    "        }\n",
    "        duplicates.append(duplicate)\n",
    "    \n",
    "    return pd.DataFrame(duplicates)"
   ]
  },
  {
   "cell_type": "code",
   "execution_count": null,
   "id": "69f65da8",
   "metadata": {},
   "outputs": [],
   "source": [
    "# restaurants\n",
    "folder = Path(\"../data/blocking/restaurants\")\n",
    "file = \"../src/vendor/JedAIToolkit/data/cleanCleanErDatasets/restaurant1Profiles\"\n",
    "df = profile2df(file)\n",
    "df.to_csv(folder / \"1_resturant.csv\", index=False)\n",
    "file = \"../src/vendor/JedAIToolkit/data/cleanCleanErDatasets/restaurant2Profiles\"\n",
    "df = profile2df(file)\n",
    "df.to_csv(folder / \"2_resturant.csv\", index=False)\n",
    "file = \"../src/vendor/JedAIToolkit/data/cleanCleanErDatasets/restaurantsIdDuplicates\"\n",
    "df = duplicates2df(file)\n",
    "df.to_csv(folder / \"matches.csv\", index=False)"
   ]
  },
  {
   "cell_type": "code",
   "execution_count": null,
   "id": "b93e4748",
   "metadata": {},
   "outputs": [],
   "source": [
    "# imdb-dbpedia\n",
    "folder = Path(\"../data/blocking/imdb-dbpedia\")\n",
    "file = \"../src/vendor/JedAIToolkit/data/cleanCleanErDatasets/imdbProfiles\"\n",
    "df = profile2df(file)\n",
    "df.to_csv(folder / \"1_imdb.csv\", index=False)\n",
    "file = \"../src/vendor/JedAIToolkit/data/cleanCleanErDatasets/dbpediaProfiles\"\n",
    "df = profile2df(file)\n",
    "df.to_csv(folder / \"2_dbpedia.csv\", index=False)\n",
    "file = \"../src/vendor/JedAIToolkit/data/cleanCleanErDatasets/moviesIdDuplicates\"\n",
    "df = duplicates2df(file)\n",
    "df.to_csv(folder / \"matches.csv\", index=False)"
   ]
  },
  {
   "cell_type": "code",
   "execution_count": null,
   "id": "02946b58",
   "metadata": {},
   "outputs": [],
   "source": [
    "# movies\n",
    "def url_suffix(s):\n",
    "    return s.split(\"/\")[-1]\n",
    "\n",
    "folder = Path(\"../data/blocking/movies\")\n",
    "file = \"../src/vendor/JedAIToolkit/data/cleanCleanErDatasets/imdbProfilesNEW\"\n",
    "df1 = profile2df(file)\n",
    "print(len(df1.columns))\n",
    "len1 = len(df1)\n",
    "\n",
    "file = \"../src/vendor/JedAIToolkit/data/cleanCleanErDatasets/tmdbProfiles\"\n",
    "df2 = profile2df(file)\n",
    "len2 = len(df2)\n",
    "print(len(df2.columns))\n",
    "\n",
    "file = \"../src/vendor/JedAIToolkit/data/cleanCleanErDatasets/tvdbProfiles\"\n",
    "df3 = profile2df(file)\n",
    "len3 = len(df3)\n",
    "print(len(df3.columns))\n",
    "\n",
    "df2[\"id\"] += len1\n",
    "df3[\"id\"] += len1 + len2\n",
    "\n",
    "df = pd.concat([df1, df2, df3], axis=0, ignore_index=True)\n",
    "df = df.rename(url_suffix, axis='columns')\n",
    "df.to_csv(folder / \"1_movies.csv\", index=False)\n",
    "\n",
    "file1 = \"../src/vendor/JedAIToolkit/data/cleanCleanErDatasets/imdbTmdbIdDuplicates\"\n",
    "dp1 = duplicates2df(file1)\n",
    "dp1[\"id2\"] += len1\n",
    "\n",
    "file2 = \"../src/vendor/JedAIToolkit/data/cleanCleanErDatasets/imdbTvdbIdDuplicates\"\n",
    "dp2 = duplicates2df(file2)\n",
    "dp1[\"id2\"] += len1 + len2\n",
    "\n",
    "file3 = \"../src/vendor/JedAIToolkit/data/cleanCleanErDatasets/tmdbTvdbIdDuplicates\"\n",
    "dp3 = duplicates2df(file3)\n",
    "dp3[\"id1\"] += len1\n",
    "dp3[\"id2\"] += len1 + len2\n",
    "\n",
    "dp = pd.concat([dp1, dp2, dp3], axis=0, ignore_index=True)\n",
    "dp.to_csv(folder / \"matches.csv\", index=False)"
   ]
  },
  {
   "cell_type": "code",
   "execution_count": null,
   "id": "d4fed9ac",
   "metadata": {},
   "outputs": [],
   "source": [
    "# census\n",
    "folder = Path(\"../data/blocking/census/\")\n",
    "file = \"../src/vendor/JedAIToolkit/data/dirtyErDatasets/censusProfiles\"\n",
    "df = profile2df(file)\n",
    "attrs = list(df.columns)\n",
    "attrs[1:] = sorted(attrs[1:])\n",
    "df = df[attrs]\n",
    "df.to_csv(folder / \"1_census.csv\", index=False)\n",
    "\n",
    "file = \"../src/vendor/JedAIToolkit/data/dirtyErDatasets/censusIdDuplicates\"\n",
    "df = duplicates2df(file)\n",
    "df.to_csv(folder / \"matches.csv\", index=False)"
   ]
  },
  {
   "cell_type": "code",
   "execution_count": null,
   "id": "f48ca7b9",
   "metadata": {},
   "outputs": [],
   "source": [
    "# cdds\n",
    "folder = Path(\"../data/blocking/cds/\")\n",
    "file = \"../src/vendor/JedAIToolkit/data/dirtyErDatasets/cddbProfiles\"\n",
    "df = profile2df(file)\n",
    "df.to_csv(folder / \"1_cds.csv\", index=False)\n",
    "\n",
    "file = \"../src/vendor/JedAIToolkit/data/dirtyErDatasets/cddbIdDuplicates\"\n",
    "df = duplicates2df(file)\n",
    "df.to_csv(folder / \"matches.csv\", index=False)"
   ]
  },
  {
   "cell_type": "code",
   "execution_count": null,
   "id": "f95808d6",
   "metadata": {},
   "outputs": [],
   "source": [
    "# notebook\n",
    "folder = Path(\"../data/blocking/notebook/\")\n",
    "\n",
    "df = pd.read_csv(folder / \"raw\" / \"X.csv\")\n",
    "df = df.rename(columns={\"instance_id\": \"id\"})\n",
    "df.to_csv(folder / \"1_notebook.csv\", index=False)\n",
    "\n",
    "df = pd.read_csv(folder / \"raw\" / \"Y.csv\")\n",
    "df = df[df[\"label\"] == 1][[\"left_instance_id\", \"right_instance_id\"]]\n",
    "df = df.rename(columns = {\"left_instance_id\": \"id1\", \"right_instance_id\": \"id2\"})\n",
    "df.to_csv(folder / \"matches.csv\", index=False)"
   ]
  },
  {
   "cell_type": "code",
   "execution_count": null,
   "id": "283c3834",
   "metadata": {},
   "outputs": [],
   "source": [
    "# notebook2\n",
    "folder = Path(\"../data/blocking/notebook2/\")\n",
    "\n",
    "df = pd.read_csv(folder / \"raw\" / \"X.csv\")\n",
    "df.to_csv(folder / \"1_notebook.csv\", index=False)\n",
    "\n",
    "df = pd.read_csv(folder / \"raw\" / \"Y.csv\")\n",
    "df = df.rename(columns = {\"lid\": \"id1\", \"rid\": \"id2\"})\n",
    "df.to_csv(folder / \"matches.csv\", index=False)"
   ]
  },
  {
   "cell_type": "code",
   "execution_count": null,
   "id": "3d540c6e",
   "metadata": {},
   "outputs": [],
   "source": [
    "# altosight\n",
    "folder = Path(\"../data/blocking/altosight/\")\n",
    "\n",
    "df = pd.read_csv(folder / \"raw\" / \"X.csv\")\n",
    "df = df.rename(columns={\"instance_id\": \"id\"})\n",
    "df = df[[\"id\", \"name\", \"price\", \"brand\", \"size\"]]\n",
    "df.to_csv(folder / \"1_altosight.csv\", index=False)\n",
    "\n",
    "df = pd.read_csv(folder / \"raw\" / \"Y.csv\")\n",
    "df = df[df[\"label\"] == 1][[\"left_instance_id\", \"right_instance_id\"]]\n",
    "df = df.rename(columns = {\"left_instance_id\": \"id1\", \"right_instance_id\": \"id2\"})\n",
    "df.to_csv(folder / \"matches.csv\", index=False)"
   ]
  },
  {
   "cell_type": "code",
   "execution_count": null,
   "id": "0e2cd04c",
   "metadata": {},
   "outputs": [],
   "source": [
    "# altosight2\n",
    "folder = Path(\"../data/blocking/altosight2/\")\n",
    "\n",
    "df = pd.read_csv(folder / \"raw\" / \"X.csv\")\n",
    "df.to_csv(folder / \"1_altosight.csv\", index=False)\n",
    "\n",
    "df = pd.read_csv(folder / \"raw\" / \"Y.csv\")\n",
    "df = df.rename(columns = {\"lid\": \"id1\", \"rid\": \"id2\"})\n",
    "df.to_csv(folder / \"matches.csv\", index=False)"
   ]
  }
 ],
 "metadata": {
  "kernelspec": {
   "display_name": "Python 3 (ipykernel)",
   "language": "python",
   "name": "python3"
  },
  "language_info": {
   "codemirror_mode": {
    "name": "ipython",
    "version": 3
   },
   "file_extension": ".py",
   "mimetype": "text/x-python",
   "name": "python",
   "nbconvert_exporter": "python",
   "pygments_lexer": "ipython3",
   "version": "3.9.12"
  }
 },
 "nbformat": 4,
 "nbformat_minor": 5
}
