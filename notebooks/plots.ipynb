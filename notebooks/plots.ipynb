{
 "cells": [
  {
   "cell_type": "code",
   "execution_count": null,
   "id": "9de90cf9-8cb5-4700-97fb-8d64e91c8334",
   "metadata": {
    "tags": []
   },
   "outputs": [],
   "source": [
    "import seaborn as sns\n",
    "import pandas as pd\n",
    "sns.set_theme(context=\"paper\", style=\"whitegrid\")"
   ]
  },
  {
   "cell_type": "code",
   "execution_count": null,
   "id": "42f354bc-5b14-4e7c-a22c-794d8b4fbda6",
   "metadata": {
    "tags": []
   },
   "outputs": [],
   "source": [
    "df = pd.read_csv(\"./results/Learning Curves-Total.csv\")\n",
    "ax = sns.lineplot(df, x=\"Step\", y=\"K\", hue=\"method\", style=\"method\", style_order=['UniBlocker', 'RetroMAE', 'Sudowoodo', 'SimCSE', 'DeepBlocker'])\n",
    "fig = ax.get_figure()\n",
    "fig.savefig(\"curves.pdf\")"
   ]
  },
  {
   "cell_type": "code",
   "execution_count": null,
   "id": "9d081038-baf0-43eb-b5e5-59e14a3ab483",
   "metadata": {},
   "outputs": [],
   "source": []
  }
 ],
 "metadata": {
  "kernelspec": {
   "display_name": "Python 3 (ipykernel)",
   "language": "python",
   "name": "python3"
  },
  "language_info": {
   "codemirror_mode": {
    "name": "ipython",
    "version": 3
   },
   "file_extension": ".py",
   "mimetype": "text/x-python",
   "name": "python",
   "nbconvert_exporter": "python",
   "pygments_lexer": "ipython3",
   "version": "3.10.9"
  }
 },
 "nbformat": 4,
 "nbformat_minor": 5
}
