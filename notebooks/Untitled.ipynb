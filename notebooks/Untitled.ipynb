{
 "cells": [
  {
   "cell_type": "code",
   "execution_count": null,
   "id": "63612e0f",
   "metadata": {},
   "outputs": [],
   "source": [
    "import os\n",
    "os.chdir(\"/home1/wangtianshu/universal-blocker\")\n",
    "from pathlib import Path\n",
    "import pandas as pd\n",
    "\n",
    "data_dir = Path(\"./data/gittables/raw_4943312/\")"
   ]
  },
  {
   "cell_type": "code",
   "execution_count": null,
   "id": "ae7da411",
   "metadata": {},
   "outputs": [],
   "source": [
    "sorted_items = sorted(columns2files.items(), key = lambda item : -len(item[1]))\n",
    "print(sorted_items[1][0])"
   ]
  },
  {
   "cell_type": "code",
   "execution_count": null,
   "id": "4048c304",
   "metadata": {},
   "outputs": [],
   "source": [
    "data_files = list(data_dir.rglob(\"*.parquet\"))\n",
    "print(len(data_files))"
   ]
  },
  {
   "cell_type": "code",
   "execution_count": null,
   "id": "10052885",
   "metadata": {},
   "outputs": [],
   "source": [
    "import pickle\n",
    "from collections import defaultdict\n",
    "from tqdm.notebook import tqdm\n",
    "\n",
    "from src.utils import check_table\n",
    "\n",
    "columns2files = defaultdict(list)\n",
    "data_files = data_dir.rglob(\"*.parquet\")\n",
    "error_files = []\n",
    "\n",
    "for f in tqdm(data_files):\n",
    "    try:\n",
    "        df = pd.read_parquet(f)\n",
    "        df.columns = df.columns.str.replace(\"\\ufeff\", \"\")\n",
    "        df.drop_duplicates(inplace=True)\n",
    "        if check_table(df):\n",
    "            columns2files[tuple(df.columns)].append(f)\n",
    "    except Exception:\n",
    "        error_files.append(f)\n",
    "        continue\n",
    "\n",
    "with (data_dir / \"maps.pickle\").open(\"wb\") as f:\n",
    "    pickle.dump(columns2files, f)"
   ]
  },
  {
   "cell_type": "code",
   "execution_count": null,
   "id": "2aaae0e9",
   "metadata": {},
   "outputs": [],
   "source": []
  },
  {
   "cell_type": "code",
   "execution_count": null,
   "id": "8b8398cc",
   "metadata": {},
   "outputs": [],
   "source": []
  }
 ],
 "metadata": {
  "kernelspec": {
   "display_name": "Python 3 (ipykernel)",
   "language": "python",
   "name": "python3"
  },
  "language_info": {
   "codemirror_mode": {
    "name": "ipython",
    "version": 3
   },
   "file_extension": ".py",
   "mimetype": "text/x-python",
   "name": "python",
   "nbconvert_exporter": "python",
   "pygments_lexer": "ipython3",
   "version": "3.9.13"
  }
 },
 "nbformat": 4,
 "nbformat_minor": 5
}
